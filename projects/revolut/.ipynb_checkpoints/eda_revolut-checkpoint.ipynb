{
 "cells": [
  {
   "cell_type": "code",
   "execution_count": 1,
   "metadata": {},
   "outputs": [],
   "source": [
    "import numpy as np\n",
    "import pandas as pd\n",
    "\n",
    "import matplotlib.pyplot as plt\n",
    "%matplotlib inline\n",
    "\n",
    "import itertools\n",
    "import warnings\n",
    "warnings.filterwarnings('ignore')"
   ]
  },
  {
   "cell_type": "code",
   "execution_count": 4,
   "metadata": {},
   "outputs": [],
   "source": [
    "filename1 = '/home/jovyan/work/data/revolut/rev-devices.csv'\n",
    "filename2 = '/home/jovyan/work/data/revolut/rev-notifications.csv'\n",
    "filename3 = '/home/jovyan/work/data/revolut/rev-transactions.csv'\n",
    "filename4 = '/home/jovyan/work/data/revolut/rev-users.csv'\n"
   ]
  },
  {
   "cell_type": "code",
   "execution_count": 11,
   "metadata": {},
   "outputs": [],
   "source": [
    "rev_devices = pd.read_csv(filename1)\n",
    "rev_notifications = pd.read_csv(filename2)\n",
    "rev_transactions = pd.read_csv(filename3)\n",
    "rev_users = pd.read_csv(filename4)\n"
   ]
  },
  {
   "cell_type": "markdown",
   "metadata": {},
   "source": [
    "### Devices"
   ]
  },
  {
   "cell_type": "code",
   "execution_count": 16,
   "metadata": {},
   "outputs": [
    {
     "data": {
      "text/plain": [
       "(19430, 2)"
      ]
     },
     "execution_count": 16,
     "metadata": {},
     "output_type": "execute_result"
    }
   ],
   "source": [
    "rev_devices.shape"
   ]
  },
  {
   "cell_type": "code",
   "execution_count": 15,
   "metadata": {},
   "outputs": [
    {
     "data": {
      "text/plain": [
       "19430"
      ]
     },
     "execution_count": 15,
     "metadata": {},
     "output_type": "execute_result"
    }
   ],
   "source": [
    "rev_devices['user_id'].nunique()"
   ]
  },
  {
   "cell_type": "code",
   "execution_count": 10,
   "metadata": {},
   "outputs": [
    {
     "data": {
      "text/html": [
       "<div>\n",
       "<style scoped>\n",
       "    .dataframe tbody tr th:only-of-type {\n",
       "        vertical-align: middle;\n",
       "    }\n",
       "\n",
       "    .dataframe tbody tr th {\n",
       "        vertical-align: top;\n",
       "    }\n",
       "\n",
       "    .dataframe thead th {\n",
       "        text-align: right;\n",
       "    }\n",
       "</style>\n",
       "<table border=\"1\" class=\"dataframe\">\n",
       "  <thead>\n",
       "    <tr style=\"text-align: right;\">\n",
       "      <th></th>\n",
       "      <th>brand</th>\n",
       "    </tr>\n",
       "    <tr>\n",
       "      <th>user_id</th>\n",
       "      <th></th>\n",
       "    </tr>\n",
       "  </thead>\n",
       "  <tbody>\n",
       "    <tr>\n",
       "      <th>user_3257</th>\n",
       "      <td>Android</td>\n",
       "    </tr>\n",
       "    <tr>\n",
       "      <th>user_6809</th>\n",
       "      <td>Apple</td>\n",
       "    </tr>\n",
       "    <tr>\n",
       "      <th>user_9144</th>\n",
       "      <td>Android</td>\n",
       "    </tr>\n",
       "    <tr>\n",
       "      <th>user_3636</th>\n",
       "      <td>Apple</td>\n",
       "    </tr>\n",
       "    <tr>\n",
       "      <th>user_5970</th>\n",
       "      <td>Android</td>\n",
       "    </tr>\n",
       "    <tr>\n",
       "      <th>...</th>\n",
       "      <td>...</td>\n",
       "    </tr>\n",
       "    <tr>\n",
       "      <th>user_18696</th>\n",
       "      <td>Apple</td>\n",
       "    </tr>\n",
       "    <tr>\n",
       "      <th>user_16188</th>\n",
       "      <td>Android</td>\n",
       "    </tr>\n",
       "    <tr>\n",
       "      <th>user_10190</th>\n",
       "      <td>Android</td>\n",
       "    </tr>\n",
       "    <tr>\n",
       "      <th>user_14554</th>\n",
       "      <td>Android</td>\n",
       "    </tr>\n",
       "    <tr>\n",
       "      <th>user_16551</th>\n",
       "      <td>Apple</td>\n",
       "    </tr>\n",
       "  </tbody>\n",
       "</table>\n",
       "<p>19430 rows × 1 columns</p>\n",
       "</div>"
      ],
      "text/plain": [
       "              brand\n",
       "user_id            \n",
       "user_3257   Android\n",
       "user_6809     Apple\n",
       "user_9144   Android\n",
       "user_3636     Apple\n",
       "user_5970   Android\n",
       "...             ...\n",
       "user_18696    Apple\n",
       "user_16188  Android\n",
       "user_10190  Android\n",
       "user_14554  Android\n",
       "user_16551    Apple\n",
       "\n",
       "[19430 rows x 1 columns]"
      ]
     },
     "execution_count": 10,
     "metadata": {},
     "output_type": "execute_result"
    }
   ],
   "source": []
  },
  {
   "cell_type": "markdown",
   "metadata": {},
   "source": [
    "### notifications"
   ]
  },
  {
   "cell_type": "code",
   "execution_count": 21,
   "metadata": {},
   "outputs": [
    {
     "data": {
      "text/html": [
       "<div>\n",
       "<style scoped>\n",
       "    .dataframe tbody tr th:only-of-type {\n",
       "        vertical-align: middle;\n",
       "    }\n",
       "\n",
       "    .dataframe tbody tr th {\n",
       "        vertical-align: top;\n",
       "    }\n",
       "\n",
       "    .dataframe thead th {\n",
       "        text-align: right;\n",
       "    }\n",
       "</style>\n",
       "<table border=\"1\" class=\"dataframe\">\n",
       "  <thead>\n",
       "    <tr style=\"text-align: right;\">\n",
       "      <th></th>\n",
       "      <th>reason</th>\n",
       "      <th>channel</th>\n",
       "      <th>status</th>\n",
       "      <th>user_id</th>\n",
       "      <th>created_date</th>\n",
       "    </tr>\n",
       "  </thead>\n",
       "  <tbody>\n",
       "    <tr>\n",
       "      <th>0</th>\n",
       "      <td>REENGAGEMENT_ACTIVE_FUNDS</td>\n",
       "      <td>PUSH</td>\n",
       "      <td>SENT</td>\n",
       "      <td>user_7086</td>\n",
       "      <td>2018-12-02 17:58:33.320645</td>\n",
       "    </tr>\n",
       "    <tr>\n",
       "      <th>1</th>\n",
       "      <td>REENGAGEMENT_ACTIVE_FUNDS</td>\n",
       "      <td>PUSH</td>\n",
       "      <td>SENT</td>\n",
       "      <td>user_6598</td>\n",
       "      <td>2018-12-01 23:09:37.367127</td>\n",
       "    </tr>\n",
       "    <tr>\n",
       "      <th>2</th>\n",
       "      <td>REENGAGEMENT_ACTIVE_FUNDS</td>\n",
       "      <td>PUSH</td>\n",
       "      <td>SENT</td>\n",
       "      <td>user_4151</td>\n",
       "      <td>2018-12-04 02:57:56.425660</td>\n",
       "    </tr>\n",
       "    <tr>\n",
       "      <th>3</th>\n",
       "      <td>REENGAGEMENT_ACTIVE_FUNDS</td>\n",
       "      <td>PUSH</td>\n",
       "      <td>SENT</td>\n",
       "      <td>user_1408</td>\n",
       "      <td>2018-12-11 02:04:46.284683</td>\n",
       "    </tr>\n",
       "    <tr>\n",
       "      <th>4</th>\n",
       "      <td>REENGAGEMENT_ACTIVE_FUNDS</td>\n",
       "      <td>PUSH</td>\n",
       "      <td>SENT</td>\n",
       "      <td>user_6292</td>\n",
       "      <td>2018-12-14 17:09:58.900808</td>\n",
       "    </tr>\n",
       "    <tr>\n",
       "      <th>...</th>\n",
       "      <td>...</td>\n",
       "      <td>...</td>\n",
       "      <td>...</td>\n",
       "      <td>...</td>\n",
       "      <td>...</td>\n",
       "    </tr>\n",
       "    <tr>\n",
       "      <th>121808</th>\n",
       "      <td>LOST_CARD_ORDER</td>\n",
       "      <td>EMAIL</td>\n",
       "      <td>SENT</td>\n",
       "      <td>user_12687</td>\n",
       "      <td>2019-05-07 12:26:28.185772</td>\n",
       "    </tr>\n",
       "    <tr>\n",
       "      <th>121809</th>\n",
       "      <td>LOST_CARD_ORDER</td>\n",
       "      <td>EMAIL</td>\n",
       "      <td>SENT</td>\n",
       "      <td>user_16875</td>\n",
       "      <td>2019-05-10 01:25:42.530159</td>\n",
       "    </tr>\n",
       "    <tr>\n",
       "      <th>121810</th>\n",
       "      <td>LOST_CARD_ORDER</td>\n",
       "      <td>EMAIL</td>\n",
       "      <td>SENT</td>\n",
       "      <td>user_17426</td>\n",
       "      <td>2019-05-09 08:42:00.245644</td>\n",
       "    </tr>\n",
       "    <tr>\n",
       "      <th>121811</th>\n",
       "      <td>LOST_CARD_ORDER</td>\n",
       "      <td>EMAIL</td>\n",
       "      <td>SENT</td>\n",
       "      <td>user_15880</td>\n",
       "      <td>2019-05-10 23:01:30.998474</td>\n",
       "    </tr>\n",
       "    <tr>\n",
       "      <th>121812</th>\n",
       "      <td>LOST_CARD_ORDER</td>\n",
       "      <td>EMAIL</td>\n",
       "      <td>SENT</td>\n",
       "      <td>user_11214</td>\n",
       "      <td>2019-05-11 04:08:43.827505</td>\n",
       "    </tr>\n",
       "  </tbody>\n",
       "</table>\n",
       "<p>121813 rows × 5 columns</p>\n",
       "</div>"
      ],
      "text/plain": [
       "                           reason channel status     user_id  \\\n",
       "0       REENGAGEMENT_ACTIVE_FUNDS    PUSH   SENT   user_7086   \n",
       "1       REENGAGEMENT_ACTIVE_FUNDS    PUSH   SENT   user_6598   \n",
       "2       REENGAGEMENT_ACTIVE_FUNDS    PUSH   SENT   user_4151   \n",
       "3       REENGAGEMENT_ACTIVE_FUNDS    PUSH   SENT   user_1408   \n",
       "4       REENGAGEMENT_ACTIVE_FUNDS    PUSH   SENT   user_6292   \n",
       "...                           ...     ...    ...         ...   \n",
       "121808            LOST_CARD_ORDER   EMAIL   SENT  user_12687   \n",
       "121809            LOST_CARD_ORDER   EMAIL   SENT  user_16875   \n",
       "121810            LOST_CARD_ORDER   EMAIL   SENT  user_17426   \n",
       "121811            LOST_CARD_ORDER   EMAIL   SENT  user_15880   \n",
       "121812            LOST_CARD_ORDER   EMAIL   SENT  user_11214   \n",
       "\n",
       "                      created_date  \n",
       "0       2018-12-02 17:58:33.320645  \n",
       "1       2018-12-01 23:09:37.367127  \n",
       "2       2018-12-04 02:57:56.425660  \n",
       "3       2018-12-11 02:04:46.284683  \n",
       "4       2018-12-14 17:09:58.900808  \n",
       "...                            ...  \n",
       "121808  2019-05-07 12:26:28.185772  \n",
       "121809  2019-05-10 01:25:42.530159  \n",
       "121810  2019-05-09 08:42:00.245644  \n",
       "121811  2019-05-10 23:01:30.998474  \n",
       "121812  2019-05-11 04:08:43.827505  \n",
       "\n",
       "[121813 rows x 5 columns]"
      ]
     },
     "execution_count": 21,
     "metadata": {},
     "output_type": "execute_result"
    }
   ],
   "source": [
    "rev_notifications"
   ]
  },
  {
   "cell_type": "code",
   "execution_count": 22,
   "metadata": {},
   "outputs": [
    {
     "data": {
      "text/plain": [
       "array(['REENGAGEMENT_ACTIVE_FUNDS', 'PUMPKIN_PAYMENT_NOTIFICATION',\n",
       "       'NO_INITIAL_CARD_USE', 'ENGAGEMENT_SPLIT_BILL_RESTAURANT',\n",
       "       'METAL_RESERVE_PLAN', 'ONBOARDING_TIPS_ACTIVATED_USERS',\n",
       "       'MADE_MONEY_REQUEST_NOT_SPLIT_BILL',\n",
       "       'PREMIUM_ENGAGEMENT_INACTIVE_CARD', 'NO_INITIAL_CARD_ORDER',\n",
       "       'PREMIUM_ENGAGEMENT_FEES_SAVED', 'FIFTH_PAYMENT_PROMO',\n",
       "       'WELCOME_HOME', 'NO_INITIAL_FREE_PROMOPAGE_CARD_ORDER',\n",
       "       'LOST_CARD_ORDER', 'BLACK_FRIDAY', 'METAL_GAME_START',\n",
       "       'JOINING_ANNIVERSARY'], dtype=object)"
      ]
     },
     "execution_count": 22,
     "metadata": {},
     "output_type": "execute_result"
    }
   ],
   "source": [
    "rev_notifications['reason'].unique()"
   ]
  },
  {
   "cell_type": "code",
   "execution_count": 23,
   "metadata": {},
   "outputs": [
    {
     "data": {
      "text/plain": [
       "array(['PUSH', 'SMS', 'EMAIL'], dtype=object)"
      ]
     },
     "execution_count": 23,
     "metadata": {},
     "output_type": "execute_result"
    }
   ],
   "source": [
    "rev_notifications['channel'].unique()"
   ]
  },
  {
   "cell_type": "code",
   "execution_count": 24,
   "metadata": {},
   "outputs": [
    {
     "data": {
      "text/plain": [
       "array(['SENT', 'FAILED'], dtype=object)"
      ]
     },
     "execution_count": 24,
     "metadata": {},
     "output_type": "execute_result"
    }
   ],
   "source": [
    "rev_notifications['status'].unique()"
   ]
  },
  {
   "cell_type": "code",
   "execution_count": 25,
   "metadata": {},
   "outputs": [
    {
     "data": {
      "text/plain": [
       "array(['2018-12-02 17:58:33.320645', '2018-12-01 23:09:37.367127',\n",
       "       '2018-12-04 02:57:56.425660', ..., '2019-05-09 08:42:00.245644',\n",
       "       '2019-05-10 23:01:30.998474', '2019-05-11 04:08:43.827505'],\n",
       "      dtype=object)"
      ]
     },
     "execution_count": 25,
     "metadata": {},
     "output_type": "execute_result"
    }
   ],
   "source": [
    "rev_notifications['created_date'].unique()"
   ]
  },
  {
   "cell_type": "code",
   "execution_count": null,
   "metadata": {},
   "outputs": [],
   "source": []
  },
  {
   "cell_type": "code",
   "execution_count": null,
   "metadata": {},
   "outputs": [],
   "source": []
  },
  {
   "cell_type": "code",
   "execution_count": null,
   "metadata": {},
   "outputs": [],
   "source": []
  },
  {
   "cell_type": "code",
   "execution_count": null,
   "metadata": {},
   "outputs": [],
   "source": []
  },
  {
   "cell_type": "code",
   "execution_count": null,
   "metadata": {},
   "outputs": [],
   "source": []
  },
  {
   "cell_type": "code",
   "execution_count": null,
   "metadata": {},
   "outputs": [],
   "source": []
  },
  {
   "cell_type": "code",
   "execution_count": null,
   "metadata": {},
   "outputs": [],
   "source": []
  },
  {
   "cell_type": "code",
   "execution_count": null,
   "metadata": {},
   "outputs": [],
   "source": []
  },
  {
   "cell_type": "code",
   "execution_count": null,
   "metadata": {},
   "outputs": [],
   "source": []
  },
  {
   "cell_type": "code",
   "execution_count": null,
   "metadata": {},
   "outputs": [],
   "source": []
  },
  {
   "cell_type": "code",
   "execution_count": null,
   "metadata": {},
   "outputs": [],
   "source": []
  }
 ],
 "metadata": {
  "kernelspec": {
   "display_name": "Python 3",
   "language": "python",
   "name": "python3"
  },
  "language_info": {
   "codemirror_mode": {
    "name": "ipython",
    "version": 3
   },
   "file_extension": ".py",
   "mimetype": "text/x-python",
   "name": "python",
   "nbconvert_exporter": "python",
   "pygments_lexer": "ipython3",
   "version": "3.8.6"
  }
 },
 "nbformat": 4,
 "nbformat_minor": 4
}
